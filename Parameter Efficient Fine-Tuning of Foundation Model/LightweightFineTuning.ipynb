{
 "cells": [
  {
   "cell_type": "markdown",
   "id": "f35354cd",
   "metadata": {},
   "source": [
    "# Lightweight Fine-Tuning of GPT2 for Medical Text Classification"
   ]
  },
  {
   "cell_type": "markdown",
   "id": "4c552a01",
   "metadata": {},
   "source": [
    "## **Content**\n",
    "\n",
    "### 1. [Project Description]((#section_1))\n",
    "### 2. [Install and import required libraries](#section_2)\n",
    "### 3. [Define Hyperparameters and Directories](#section_3)\n",
    "### 4. [Load and Preprocess Dataset using Hugging Face Tokenizer](#section_4)\n",
    "### 5. [Train and Test Split](#section_5)\n",
    "### 6. [Create Data Loader](#section_6)\n",
    "### 7. [Loading and Evaluating a Foundation Model](#section_7)\n",
    "### 8. [Performing Parameter-Efficient Fine-Tuning](#section_8)\n",
    "### 9. [Load and Performe Inference with a PEFT Model](#section_9)\n",
    "### 10. [Evaluate PEFT Model Pefrormance](#section_10)\n",
    "### 11. [Summary](#section_11)"
   ]
  },
  {
   "cell_type": "markdown",
   "id": "c5fa61eb",
   "metadata": {},
   "source": [
    "## <a name=\"section_1\"></a>**1. Project Description**\n"
   ]
  },
  {
   "cell_type": "markdown",
   "id": "560fb3ff",
   "metadata": {},
   "source": [
    "This project is on **Parameter Efficient Fine-Tuning (PEFT)** of foundation models to improve the performance of the model to classify medical health advice. The idea is given a sequence or text, classify the sequence whether it is not advice, weak advice or strong adice. The problem was framed as a sequence classification. The `medalpaca/medical_meadow_health_advice`([link](https://huggingface.co/datasets/medalpaca/medical_meadow_health_advice)) dataset in Hugging face was used to fine-tune the model and evaluate its performance performance.\n",
    "\n",
    "* **Model:** GPT2 model was due to its small number of parameters, so that it will be easy to fine-tune it in smaller GPU memory available from Udacity workspace.\n",
    "* **Fine-tuning dataset:** As described above the `medalpaca/medical_meadow_health_advice` dataset in Hugging face was used to fine-tune and evaluate the performance of the model. The dataset was split into training (60%) and test set (30%).\n",
    "\n",
    "* **PEFT technique:** Low-Rank Adaptation (LoRA) in Hugging face was used to fine-tune the model on the task since it has reduced computational and memory requirements.\n",
    "\n",
    "* **Evaluation approach:** both of the Foundation Model and the PEFT Model were evaluated on a separately held test data using accuracy and f1-score metrics. Confusion matrix was also plotted. Model performance is evaluated as follows:\n",
    "    * Classification accuracy\n",
    "    * Classification F1-score\n",
    "    * Classification confusion matrix\n",
    "    * Mis-classified sequences have been also explored\n"
   ]
  },
  {
   "cell_type": "markdown",
   "id": "42a24d81",
   "metadata": {},
   "source": [
    "\n",
    "## <a name=\"section_2\"></a>**2. Install and Import Required Libraries**"
   ]
  },
  {
   "cell_type": "code",
   "execution_count": 15,
   "id": "59d10fed",
   "metadata": {},
   "outputs": [
    {
     "name": "stderr",
     "output_type": "stream",
     "text": [
      "huggingface/tokenizers: The current process just got forked, after parallelism has already been used. Disabling parallelism to avoid deadlocks...\n",
      "To disable this warning, you can either:\n",
      "\t- Avoid using `tokenizers` before the fork if possible\n",
      "\t- Explicitly set the environment variable TOKENIZERS_PARALLELISM=(true | false)\n"
     ]
    }
   ],
   "source": [
    "!pip install -q datasets transformers torch pandas numpy peft scikit-learn"
   ]
  },
  {
   "cell_type": "code",
   "execution_count": 16,
   "id": "0d378922",
   "metadata": {},
   "outputs": [],
   "source": [
    "import os\n",
    "from datasets import load_dataset\n",
    "from transformers import AutoModelForSequenceClassification, AutoTokenizer\n",
    "from peft import LoraConfig, get_peft_model, get_peft_config, PeftModel, PeftConfig, AutoPeftModelForSequenceClassification\n",
    "import torch\n",
    "import pandas as pd\n",
    "import torch.nn as nn\n",
    "from torch.utils.data import DataLoader\n",
    "from tqdm.notebook import tqdm\n",
    "import matplotlib.pyplot as plt\n",
    "from sklearn.metrics import confusion_matrix, ConfusionMatrixDisplay, f1_score, accuracy_score\n",
    "from sklearn.utils.class_weight import compute_class_weight\n",
    "import numpy as np\n"
   ]
  },
  {
   "cell_type": "markdown",
   "id": "679b07a4",
   "metadata": {},
   "source": [
    "\n",
    "## <a name=\"section_3\"></a>**3. Define Hyperparameters and Directories**\n"
   ]
  },
  {
   "cell_type": "code",
   "execution_count": 17,
   "id": "73fc01f0",
   "metadata": {},
   "outputs": [
    {
     "name": "stdout",
     "output_type": "stream",
     "text": [
      "You are using cuda device\n"
     ]
    }
   ],
   "source": [
    "# The name of dataset to use\n",
    "dataset_name = \"medalpaca/medical_meadow_health_advice\"\n",
    "\n",
    "# Name of transformers model - will use already pretrained model.\n",
    "# Path of transformer model - will load your own model from local disk.\n",
    "model_name_or_path = \"gpt2\" # \"google-bert/bert-base-cased\" # \"gpt2\"\n",
    "\n",
    "# Number of classes in the dataset\n",
    "num_labels = 3\n",
    "\n",
    "# The dataset contains only training samples and test dataset need to be sampled\n",
    "# This is the percentage of the test data; for reproducibility, random state was set during sampling\n",
    "test_size = 0.3\n",
    "\n",
    "# Number of training epochs.\n",
    "epochs = 10\n",
    "\n",
    "# Number of batches - depending on the max sequence length and GPU memory.\n",
    "batch_size = 3\n",
    "\n",
    "# Look for gpu to use. Will use `cpu` by default if no gpu found.\n",
    "device = torch.device('cuda' if torch.cuda.is_available() else 'cpu')\n",
    "print(f\"You are using {device} device\")\n",
    "\n",
    "output_dir = \"results_exp_2\"\n"
   ]
  },
  {
   "cell_type": "code",
   "execution_count": 18,
   "id": "bb91868b",
   "metadata": {},
   "outputs": [
    {
     "name": "stdout",
     "output_type": "stream",
     "text": [
      "Available number of GPUs: 1\n",
      "Available device name: Tesla T4\n",
      "Available GPUs properties: [_CudaDeviceProperties(name='Tesla T4', major=7, minor=5, total_memory=14917MB, multi_processor_count=40)]\n"
     ]
    }
   ],
   "source": [
    "#If gpu is available display device property\n",
    "if torch.cuda.is_available():\n",
    "    print(f\"Available number of GPUs: {torch.cuda.device_count()}\")\n",
    "    print(f\"Available device name: {torch.cuda.get_device_name()}\")\n",
    "    print(f\"Available GPUs properties: {[torch.cuda.get_device_properties(i) for i in range(torch.cuda.device_count())]}\")"
   ]
  },
  {
   "cell_type": "code",
   "execution_count": 19,
   "id": "46d8d176",
   "metadata": {},
   "outputs": [],
   "source": [
    "#Make output director if it doesnot exist\n",
    "os.makedirs(output_dir, exist_ok=True)"
   ]
  },
  {
   "cell_type": "markdown",
   "id": "61e03094",
   "metadata": {},
   "source": [
    "## <a name=\"section_4\"></a>**4. Load and Preprocess Dataset using Hugging Face Tokenizer**\n"
   ]
  },
  {
   "cell_type": "code",
   "execution_count": 20,
   "id": "f551c63a",
   "metadata": {},
   "outputs": [
    {
     "data": {
      "text/plain": [
       "DatasetDict({\n",
       "    train: Dataset({\n",
       "        features: ['instruction', 'output', 'input'],\n",
       "        num_rows: 8676\n",
       "    })\n",
       "})"
      ]
     },
     "execution_count": 20,
     "metadata": {},
     "output_type": "execute_result"
    }
   ],
   "source": [
    "dataset = load_dataset(dataset_name)\n",
    "dataset"
   ]
  },
  {
   "cell_type": "code",
   "execution_count": 21,
   "id": "4935cb4d",
   "metadata": {},
   "outputs": [
    {
     "name": "stdout",
     "output_type": "stream",
     "text": [
      "Displaying the the first element of the dataset --> \n",
      "{'instruction': 'Question: is this a 2) strong advice, 1) weak advice 0) no advice?', 'output': 'This is no advice', 'input': 'As we have previously shown an additional effect of vibrating insoles on improving static balance [3–5], it is possible that the combined effect on balance and gait will have a greater impact on falls and mobility than our data would imply. '}\n"
     ]
    }
   ],
   "source": [
    "# The dataset has only train set and take out the training set\n",
    "dataset = dataset['train']\n",
    "print(f\"Displaying the the first element of the dataset --> \\n{dataset[0]}\")"
   ]
  },
  {
   "cell_type": "code",
   "execution_count": null,
   "id": "2b6824a9",
   "metadata": {},
   "outputs": [],
   "source": []
  },
  {
   "cell_type": "markdown",
   "id": "110d9f19",
   "metadata": {},
   "source": [
    "### Load Tokenizer from Hugging Face"
   ]
  },
  {
   "cell_type": "code",
   "execution_count": 22,
   "id": "f23c4267",
   "metadata": {},
   "outputs": [],
   "source": [
    "def get_tokenizer():\n",
    "    \"\"\"\n",
    "    Load and configure a tokenizer for a pretrained model.\n",
    "\n",
    "    This function loads a tokenizer from a pretrained model specified by `model_name_or_path`, \n",
    "    sets the padding side to the left, and assigns the end-of-sequence (EOS) token as the padding token.\n",
    "\n",
    "    Returns:\n",
    "        AutoTokenizer: A configured tokenizer instance.\n",
    "    \"\"\"\n",
    "    # Loading the tokenizer from the pretrained model\n",
    "    print(\"Loading tokenizer model...\")\n",
    "    tokenizer = AutoTokenizer.from_pretrained(pretrained_model_name_or_path=model_name_or_path)\n",
    "\n",
    "    # Set the tokenizer to pad sequences on the left side (i.e., padding is applied before the sequence).\n",
    "    tokenizer.padding_side = \"left\"\n",
    "\n",
    "    # Set the PAD token to be the same as the EOS token. EOS token typically has the ID 50256.\n",
    "    tokenizer.pad_token = tokenizer.eos_token\n",
    "    \n",
    "    return tokenizer\n"
   ]
  },
  {
   "cell_type": "markdown",
   "id": "c39f3417",
   "metadata": {},
   "source": [
    "### Pre-process Dataset"
   ]
  },
  {
   "cell_type": "code",
   "execution_count": 23,
   "id": "7d1e6311",
   "metadata": {},
   "outputs": [
    {
     "data": {
      "text/plain": [
       "{'instruction': 'Question: is this a 2) strong advice, 1) weak advice 0) no advice?',\n",
       " 'output': 'This is no advice',\n",
       " 'input': 'As we have previously shown an additional effect of vibrating insoles on improving static balance [3–5], it is possible that the combined effect on balance and gait will have a greater impact on falls and mobility than our data would imply. '}"
      ]
     },
     "execution_count": 23,
     "metadata": {},
     "output_type": "execute_result"
    }
   ],
   "source": [
    "# Display sample dataset\n",
    "dataset[0]"
   ]
  },
  {
   "cell_type": "code",
   "execution_count": 24,
   "id": "c7924553",
   "metadata": {},
   "outputs": [
    {
     "name": "stdout",
     "output_type": "stream",
     "text": [
      "There are 3 classes and the class names are:['This is a strong advice', 'This is a weak advice', 'This is no advice']\n"
     ]
    }
   ],
   "source": [
    "# Get class names or labels in the dataset\n",
    "label_names = list(set(dataset['output']))\n",
    "print(f\"There are {len(label_names)} classes and the class names are:{label_names}\")"
   ]
  },
  {
   "cell_type": "code",
   "execution_count": 25,
   "id": "b4b02147",
   "metadata": {},
   "outputs": [],
   "source": [
    "# Class names\n",
    "label_names = ['This is no advice', 'This is a weak advice', 'This is a strong advice']"
   ]
  },
  {
   "cell_type": "code",
   "execution_count": 26,
   "id": "95024fa1",
   "metadata": {},
   "outputs": [],
   "source": [
    "# Get label to int id and int id to label mapping dictionaries\n",
    "id2label = dict()\n",
    "label2id = dict()\n",
    "for id_, label_name in enumerate(label_names):\n",
    "    label2id[label_name] = id_\n",
    "    id2label[id_] = label_name\n",
    "    \n",
    "# Get the id mapping of eacha label\n",
    "dataset = dataset.map(lambda batch_in: {'labels':[label2id[output] for output in batch_in['output']]}, batched=True)"
   ]
  },
  {
   "cell_type": "code",
   "execution_count": 27,
   "id": "bf3fb35e",
   "metadata": {},
   "outputs": [
    {
     "name": "stdout",
     "output_type": "stream",
     "text": [
      "Loading tokenizer model...\n"
     ]
    }
   ],
   "source": [
    "tokenizer = get_tokenizer()\n",
    "def tokenizer_func(examples):\n",
    "    \"\"\"\n",
    "    Tokenizes a batch of input sequences, ensuring uniform encoding length through truncation and padding.\n",
    "\n",
    "    Args:\n",
    "        examples (dict): A dictionary containing input sequences under the key 'input'.\n",
    "\n",
    "    Returns:\n",
    "        dict: A dictionary containing tokenized sequences, padded to the maximum length in the batch and truncated as needed.\n",
    "    \"\"\"\n",
    "    # Tokenize the input sequences in the batch, ensuring each sequence has the same length.\n",
    "    # The sequences are truncated if they exceed the maximum length allowed by the tokenizer.\n",
    "    # Padding is applied to make all sequences in the batch the same length.\n",
    "    # The tokenized output is returned as PyTorch tensors ('pt').\n",
    "    return tokenizer(examples['input'], padding='max_length', truncation=True, return_tensors='pt')\n"
   ]
  },
  {
   "cell_type": "code",
   "execution_count": 28,
   "id": "278a8005",
   "metadata": {},
   "outputs": [
    {
     "name": "stdout",
     "output_type": "stream",
     "text": [
      "Tokenizing dataset ...\n"
     ]
    },
    {
     "data": {
      "application/vnd.jupyter.widget-view+json": {
       "model_id": "b2cda67f768d426692e21c74a4296b39",
       "version_major": 2,
       "version_minor": 0
      },
      "text/plain": [
       "Map:   0%|          | 0/8676 [00:00<?, ? examples/s]"
      ]
     },
     "metadata": {},
     "output_type": "display_data"
    },
    {
     "data": {
      "text/plain": [
       "Dataset({\n",
       "    features: ['instruction', 'output', 'input', 'labels', 'input_ids', 'attention_mask'],\n",
       "    num_rows: 8676\n",
       "})"
      ]
     },
     "execution_count": 28,
     "metadata": {},
     "output_type": "execute_result"
    }
   ],
   "source": [
    "print(f\"Tokenizing dataset ...\")\n",
    "# batch based tokenisation of text using Map (More information can be found here, https://huggingface.co/docs/datasets/en/process) \n",
    "tokenized_dataset = dataset.map(tokenizer_func, batched=True)\n",
    "tokenized_dataset"
   ]
  },
  {
   "cell_type": "code",
   "execution_count": 29,
   "id": "e7a90caf",
   "metadata": {},
   "outputs": [],
   "source": [
    "# Remove unwanted columns from the datasets\n",
    "# print(\"Selecting columns for model input ....\")\n",
    "# tokenized_dataset = tokenized_dataset.select_columns(['labels', 'input_ids', 'attention_mask'])\n"
   ]
  },
  {
   "cell_type": "markdown",
   "id": "5cd27f44",
   "metadata": {},
   "source": [
    "## <a name=\"section_5\"></a>**5. Train and Test Split**"
   ]
  },
  {
   "cell_type": "code",
   "execution_count": 30,
   "id": "019b9f55",
   "metadata": {},
   "outputs": [
    {
     "name": "stdout",
     "output_type": "stream",
     "text": [
      "Creating training and test split ...\n"
     ]
    },
    {
     "data": {
      "text/plain": [
       "Dataset({\n",
       "    features: ['instruction', 'output', 'input', 'labels', 'input_ids', 'attention_mask'],\n",
       "    num_rows: 2603\n",
       "})"
      ]
     },
     "execution_count": 30,
     "metadata": {},
     "output_type": "execute_result"
    }
   ],
   "source": [
    "# Creating training and test data loaders\n",
    "print('Creating training and test split ...')\n",
    "## Set the format of the dataset to return PyTorch tensors instead of lists:\n",
    "tokenized_dataset.set_format('torch')\n",
    "split = tokenized_dataset.train_test_split(test_size=test_size, shuffle=True, seed=2024)\n",
    "train = split['train']\n",
    "test = split['test']\n",
    "test"
   ]
  },
  {
   "cell_type": "code",
   "execution_count": 31,
   "id": "406e391c",
   "metadata": {},
   "outputs": [
    {
     "data": {
      "image/png": "[encoded data removed]",
      "text/plain": [
       "<Figure size 1500x400 with 2 Axes>"
      ]
     },
     "metadata": {},
     "output_type": "display_data"
    }
   ],
   "source": [
    "# Create figure to plot distribution of the classes in \n",
    "fig, axs = plt.subplots(1, 2, figsize=(15, 4))\n",
    "pd.Series(train['output'], name=\"Label\").hist(ax=axs[0])\n",
    "pd.Series(test['output'], name=\"Label\").hist(ax=axs[1])\n",
    "for ax, split in zip(axs, ['train', 'test']):\n",
    "    ax.set_title(f\"Distribution of labels in {split} split\")\n",
    "    ax.set_ylabel('Number of data points')\n",
    "plt.savefig(os.path.join(output_dir, 'class_distribution.png'))"
   ]
  },
  {
   "cell_type": "markdown",
   "id": "dc036840",
   "metadata": {},
   "source": [
    "There is class imbalace between the classes and when applying PEFT, **class weight will applied while fine-tuning foundation model**."
   ]
  },
  {
   "cell_type": "markdown",
   "id": "e0a4091f",
   "metadata": {},
   "source": [
    "## <a name=\"section_6\"></a>**6. Create Data Loader**\n"
   ]
  },
  {
   "cell_type": "code",
   "execution_count": 32,
   "id": "6551ccc4",
   "metadata": {},
   "outputs": [
    {
     "name": "stdout",
     "output_type": "stream",
     "text": [
      "created training Data Loader with 2025 batches\n",
      "created test Data Loader with 868 batches\n"
     ]
    }
   ],
   "source": [
    "# Move dataset to DataLoader\n",
    "train_dataloader = DataLoader(train.select_columns(['labels', 'input_ids', 'attention_mask']), \n",
    "                              shuffle=True, \n",
    "                              batch_size=batch_size)\n",
    "print(f\"created training Data Loader with {len(train_dataloader)} batches\")\n",
    "test_dataloader = DataLoader(test.select_columns(['labels', 'input_ids', 'attention_mask']), \n",
    "                             batch_size=batch_size)\n",
    "print(f\"created test Data Loader with {len(test_dataloader)} batches\")"
   ]
  },
  {
   "cell_type": "markdown",
   "id": "de8d76bb",
   "metadata": {},
   "source": [
    "## <a name=\"section_7\"></a>**7. Loading and Evaluating a Foundation Model**\n"
   ]
  },
  {
   "cell_type": "code",
   "execution_count": 33,
   "id": "e93df1c4",
   "metadata": {},
   "outputs": [],
   "source": [
    "def get_fm_model(tokenizer):\n",
    "    \"\"\"\n",
    "    Load and configure a pretrained language model for sequence classification.\n",
    "\n",
    "    This function loads a large language model (LLM) for sequence classification, \n",
    "    adjusts its embedding layer to match the tokenizer's vocabulary size, \n",
    "    and sets the padding token ID to be the same as the end-of-sequence (EOS) token ID.\n",
    "\n",
    "    Args:\n",
    "        tokenizer (AutoTokenizer): The tokenizer used with the model, which determines the vocabulary size.\n",
    "\n",
    "    Returns:\n",
    "        AutoModelForSequenceClassification: A configured model instance ready for sequence classification tasks.\n",
    "    \"\"\"\n",
    "    # Load the pretrained language model for sequence classification\n",
    "    print(\"Loading LLM model..\")\n",
    "    model = AutoModelForSequenceClassification.from_pretrained(\n",
    "        pretrained_model_name_or_path=model_name_or_path,\n",
    "        num_labels=num_labels)\n",
    "\n",
    "    # Adjust the model's embedding layer to accommodate any new tokens added to the tokenizer\n",
    "    model.resize_token_embeddings(len(tokenizer))\n",
    "\n",
    "    # Set the padding token ID to be the same as the EOS token ID, ensuring consistent padding behavior\n",
    "    model.config.pad_token_id = model.config.eos_token_id\n",
    "    \n",
    "    return model\n"
   ]
  },
  {
   "cell_type": "markdown",
   "id": "08d957fe",
   "metadata": {},
   "source": [
    "### Create Helper Functions"
   ]
  },
  {
   "cell_type": "code",
   "execution_count": 34,
   "id": "85869216",
   "metadata": {},
   "outputs": [],
   "source": [
    "def evaluation(model_in, data_loader, device):\n",
    "    \"\"\"\n",
    "    Evaluate the performance of a model on a given dataset.\n",
    "\n",
    "    Args:\n",
    "        model_in (torch.nn.Module): The model to be evaluated.\n",
    "        data_loader (torch.utils.data.DataLoader): DataLoader containing the evaluation dataset.\n",
    "        device (torch.device): The device (CPU or GPU) to perform the evaluation on.\n",
    "\n",
    "    Returns:\n",
    "        dict: A dictionary containing the following keys:\n",
    "            - 'true_labels' (torch.Tensor): The ground truth labels.\n",
    "            - 'predicted_labels' (torch.Tensor): The predicted labels by the model.\n",
    "    \"\"\"\n",
    "    # Initialize tensors to store true and predicted labels\n",
    "    true_labels = torch.tensor([])\n",
    "    predicted_labels = torch.tensor([])\n",
    "\n",
    "    # Set the model to evaluation mode to disable dropout, batch norm, etc.\n",
    "    model_in.eval()\n",
    "\n",
    "    # Iterate over batches in the data loader\n",
    "    for batch in tqdm(data_loader, total=len(data_loader), desc='Model evaluation'):\n",
    "        # Move the batch data to the specified device (CPU/GPU)\n",
    "        batch = {k:v.to(device) for k, v in batch.items()}\n",
    "\n",
    "        # Perform the forward pass with no gradient computation\n",
    "        with torch.no_grad():\n",
    "            outputs = model_in(**batch)\n",
    "\n",
    "        # Predict labels by taking the argmax over the logits\n",
    "        pred_labels = torch.argmax(torch.nn.functional.softmax(outputs.logits, dim=-1), dim=-1, keepdim=False)\n",
    "\n",
    "        # Append true and predicted labels to their respective tensors\n",
    "        true_labels = torch.cat((true_labels, batch['labels'].detach().cpu()))\n",
    "        predicted_labels = torch.cat((predicted_labels, pred_labels.detach().cpu()))\n",
    "\n",
    "    # Store true and predicted labels in a dictionary and return\n",
    "    outputs = dict()\n",
    "    outputs['true_labels'] = true_labels\n",
    "    outputs['predicted_labels'] = predicted_labels\n",
    "\n",
    "    return outputs\n",
    "\n",
    "\n",
    "def training(model_in, data_loader, class_weights=None):\n",
    "    \"\"\"\n",
    "    Train a model using the PEFT (Parameter-Efficient Fine-Tuning) method on a given dataset.\n",
    "\n",
    "    Args:\n",
    "        model_in (torch.nn.Module): The model to be trained.\n",
    "        data_loader (torch.utils.data.DataLoader): DataLoader containing the training dataset.\n",
    "        class_weights (torch.Tensor, optional): Class weights to handle class imbalance. Defaults to None.\n",
    "\n",
    "    Returns:\n",
    "        tuple: Two lists containing:\n",
    "            - computed_loss_hist (list): The history of the computed loss over epochs.\n",
    "            - loss_from_gpt2_hist (list): The history of the loss from the GPT-2 model over epochs.\n",
    "    \"\"\"\n",
    "    # Define the optimizer and loss criterion (optionally with class weights)\n",
    "    optimizer = torch.optim.Adam(model_in.parameters(), lr=1e-5, eps=1e-8)\n",
    "    criteria = nn.CrossEntropyLoss(weight=class_weights)\n",
    "    print(f\"class weights are: {class_weights}\")\n",
    "    \n",
    "    # Initialize lists to track the loss history\n",
    "    computed_loss_hist = []\n",
    "    loss_from_gpt2_hist = []\n",
    "\n",
    "    # Move the model to the specified device (CPU/GPU) and set to training mode\n",
    "    model_in.to(device)\n",
    "    model_in.train()\n",
    "    \n",
    "    # Iterate over epochs\n",
    "    for epoch in tqdm(range(epochs), total=epochs, desc=\"PEFT of GPT2\"):\n",
    "        # Initialize variables to track loss for each epoch\n",
    "        computed_loss = 0.0\n",
    "        gpt2_loss = 0.0\n",
    "\n",
    "        # Iterate over batches in the data loader\n",
    "        for batch in data_loader:\n",
    "            # Move the batch data to the specified device (CPU/GPU)\n",
    "            batch = {k:v.to(device) for k, v in batch.items()}\n",
    "            \n",
    "            # Clear gradients to avoid accumulation from previous iterations\n",
    "            optimizer.zero_grad()\n",
    "            \n",
    "            # Perform the forward pass\n",
    "            output = model_in(**batch)\n",
    "            \n",
    "            # Compute the loss\n",
    "            loss = criteria(output.logits, batch['labels'])\n",
    "            \n",
    "            # Backpropagate the loss\n",
    "            loss.backward()\n",
    "            \n",
    "            # Update model parameters\n",
    "            optimizer.step()\n",
    "\n",
    "            # Accumulate loss values\n",
    "            computed_loss += loss.detach().cpu().item()\n",
    "            gpt2_loss += output.loss.detach().cpu().item()\n",
    "        \n",
    "        # Print and store the loss every 2 epochs\n",
    "        if epoch % 2 == 0:\n",
    "            print(f'Epoch: {epoch} >>> loss: {computed_loss}')\n",
    "            computed_loss_hist.append(computed_loss / len(train_dataloader))\n",
    "        loss_from_gpt2_hist.append(gpt2_loss / len(train_dataloader))\n",
    "\n",
    "    return computed_loss_hist, loss_from_gpt2_hist\n",
    "\n",
    "\n",
    "def eval_model(true_labels, predicted_labels):\n",
    "    \"\"\"\n",
    "    Compute evaluation metrics including accuracy, F1-score, and confusion matrix.\n",
    "\n",
    "    Args:\n",
    "        true_labels (torch.Tensor): The ground truth labels.\n",
    "        predicted_labels (torch.Tensor): The predicted labels by the model.\n",
    "\n",
    "    Returns:\n",
    "        tuple: A tuple containing:\n",
    "            - acc (float): The accuracy of the model.\n",
    "            - f1 (float): The F1-score of the model.\n",
    "            - cm (numpy.ndarray): The confusion matrix.\n",
    "    \"\"\"\n",
    "    # Convert tensors to numpy arrays for evaluation\n",
    "    y_true = true_labels.numpy()\n",
    "    y_pred = predicted_labels.numpy()\n",
    "    \n",
    "    # Calculate accuracy\n",
    "    acc = accuracy_score(y_true, y_pred)\n",
    "    \n",
    "    # Calculate F1-score (macro-averaged)\n",
    "    f1 = f1_score(y_true, y_pred, average='macro')\n",
    "\n",
    "    # Compute the confusion matrix\n",
    "    cm = confusion_matrix(y_true, y_pred)\n",
    "    \n",
    "    return acc, f1, cm\n",
    "\n",
    "\n",
    "def get_class_weight(ds, device):\n",
    "    \"\"\"\n",
    "    Generate class weights from a Hugging Face dataset instance.\n",
    "\n",
    "    Args:\n",
    "        ds (datasets.Dataset): A Hugging Face dataset instance containing labeled data.\n",
    "        device (torch.device): The device (CPU or GPU) to move the class weights to.\n",
    "\n",
    "    Returns:\n",
    "        torch.Tensor: A tensor containing the class weights, moved to the specified device.\n",
    "    \"\"\"\n",
    "    # Extract the labels from the dataset and convert to numpy array\n",
    "    labels = ds['labels'].numpy()\n",
    "\n",
    "    # Compute class weights to handle imbalance\n",
    "    class_weights = compute_class_weight(class_weight=\"balanced\", classes=np.unique(labels), y=labels)\n",
    "    \n",
    "    # Convert the weights to a torch tensor and move to the specified device\n",
    "    class_weights = torch.tensor(class_weights, dtype=torch.float, device=device)\n",
    "    \n",
    "    return class_weights\n"
   ]
  },
  {
   "cell_type": "code",
   "execution_count": null,
   "id": "43279493",
   "metadata": {},
   "outputs": [],
   "source": [
    "# Load foundation model\n",
    "model = get_fm_model(tokenizer)\n",
    "model.to(device)"
   ]
  },
  {
   "cell_type": "markdown",
   "id": "012c4b6f",
   "metadata": {},
   "source": [
    "### Evaluate Foundation Model\n",
    "\n",
    "Model performance is evaluated as follows:\n",
    "* Classification accuracy\n",
    "* Classification F1-score\n",
    "* Classification confusion matrix"
   ]
  },
  {
   "cell_type": "code",
   "execution_count": null,
   "id": "0c7bbd75",
   "metadata": {
    "scrolled": true
   },
   "outputs": [],
   "source": [
    "outputs_pretrained = evaluation(model, test_dataloader, device)"
   ]
  },
  {
   "cell_type": "code",
   "execution_count": 23,
   "id": "b16e5772",
   "metadata": {},
   "outputs": [
    {
     "data": {
      "application/vnd.jupyter.widget-view+json": {
       "model_id": "c1d8e72776fc46068c1b2df5da98c5aa",
       "version_major": 2,
       "version_minor": 0
      },
      "text/plain": [
       "Flattening the indices:   0%|          | 0/2603 [00:00<?, ? examples/s]"
      ]
     },
     "metadata": {},
     "output_type": "display_data"
    },
    {
     "data": {
      "application/vnd.jupyter.widget-view+json": {
       "model_id": "2c320ba16e0f4f5cb8eb0547d347d077",
       "version_major": 2,
       "version_minor": 0
      },
      "text/plain": [
       "Saving the dataset (0/1 shards):   0%|          | 0/2603 [00:00<?, ? examples/s]"
      ]
     },
     "metadata": {},
     "output_type": "display_data"
    }
   ],
   "source": [
    "# Updated test dataset with predicted labels from the foundation model\n",
    "test = test.add_column('pred_label_fm', outputs_pretrained['predicted_labels'].numpy().astype('int').tolist())\n",
    "test.save_to_disk(os.path.join(output_dir, 'test'))"
   ]
  },
  {
   "cell_type": "code",
   "execution_count": 24,
   "id": "272cec79",
   "metadata": {},
   "outputs": [
    {
     "name": "stdout",
     "output_type": "stream",
     "text": [
      "Accuracy = 0.11794083749519785, and F1-score = 0.08006268579953475\n"
     ]
    },
    {
     "data": {
      "image/png": "[encoded data removed]",
      "text/plain": [
       "<Figure size 640x480 with 2 Axes>"
      ]
     },
     "metadata": {},
     "output_type": "display_data"
    }
   ],
   "source": [
    "accuracy, f1, cm = eval_model(outputs_pretrained['true_labels'], outputs_pretrained['predicted_labels'])\n",
    "print(f\"Accuracy = {accuracy}, and F1-score = {f1}\")\n",
    "# Display confusion matrix\n",
    "disp = ConfusionMatrixDisplay(confusion_matrix=cm)\n",
    "disp.plot()\n",
    "plt.title(\"Foundation model CM\")\n",
    "plt.savefig(os.path.join(output_dir, \"Foundation model CM.png\"))"
   ]
  },
  {
   "cell_type": "markdown",
   "id": "44c905a9",
   "metadata": {},
   "source": [
    "Evaluation of the Foundation model resulted in accuracy of ~12%, and f1-score of ~0.1, which is very low. Moreover, as can be seen from the confusion matrix, 96% of the data is classified as label 1 (weak advice).\n",
    "\n",
    "Loading the GPT2 Foundation Model, does not load the trained parameters of the final layer (score) and they are randomly initialised since the number of classes the model was trained and the number of classes in the current dataset are different.\n",
    "This lowers the performance of the model."
   ]
  },
  {
   "cell_type": "markdown",
   "id": "4d52a229",
   "metadata": {},
   "source": [
    "## <a name=\"section_8\"></a>**8. Performing Parameter-Efficient Fine-Tuning**\n"
   ]
  },
  {
   "cell_type": "markdown",
   "id": "877a58df",
   "metadata": {},
   "source": [
    "This section fine-tunes all linear leayers including Conv1D and Linear layers in GPT2"
   ]
  },
  {
   "cell_type": "code",
   "execution_count": 32,
   "id": "839f33b5",
   "metadata": {},
   "outputs": [
    {
     "name": "stdout",
     "output_type": "stream",
     "text": [
      "Loaidng LLM model..\n"
     ]
    },
    {
     "name": "stderr",
     "output_type": "stream",
     "text": [
      "Some weights of GPT2ForSequenceClassification were not initialized from the model checkpoint at gpt2 and are newly initialized: ['score.weight']\n",
      "You should probably TRAIN this model on a down-stream task to be able to use it for predictions and inference.\n",
      "/opt/conda/lib/python3.10/site-packages/peft/tuners/lora.py:475: UserWarning: fan_in_fan_out is set to False but the target module is `Conv1D`. Setting fan_in_fan_out to True.\n",
      "  warnings.warn(\n"
     ]
    },
    {
     "name": "stdout",
     "output_type": "stream",
     "text": [
      "trainable params: 299,520 || all params: 124,739,328 || trainable%: 0.2401167336736013\n"
     ]
    }
   ],
   "source": [
    "# Create Lora configutation\n",
    "config_2 = LoraConfig(\n",
    "    r=8, # lora attention dimension, aka rank\n",
    "    lora_alpha=16, # W' = W + a*deltaW\n",
    "    modules_to_save=[\"score\"],\n",
    "    lora_dropout=0.1, # dropout in the lora layer\n",
    ")\n",
    "# Reload Base model \n",
    "model.cpu()\n",
    "del model\n",
    "model = get_fm_model(tokenizer)\n",
    "# Create PEFT MODEL\n",
    "lora_model_2 = get_peft_model(model, config_2)\n",
    "lora_model_2.to(device)\n",
    "lora_model_2.print_trainable_parameters()\n",
    "\n"
   ]
  },
  {
   "cell_type": "code",
   "execution_count": 33,
   "id": "6aa18e74",
   "metadata": {},
   "outputs": [
    {
     "name": "stdout",
     "output_type": "stream",
     "text": [
      "base_model.model.transformer.h.0.attn.c_attn.lora_A.default.weight\n",
      "base_model.model.transformer.h.0.attn.c_attn.lora_B.default.weight\n",
      "base_model.model.transformer.h.1.attn.c_attn.lora_A.default.weight\n",
      "base_model.model.transformer.h.1.attn.c_attn.lora_B.default.weight\n",
      "base_model.model.transformer.h.2.attn.c_attn.lora_A.default.weight\n",
      "base_model.model.transformer.h.2.attn.c_attn.lora_B.default.weight\n",
      "base_model.model.transformer.h.3.attn.c_attn.lora_A.default.weight\n",
      "base_model.model.transformer.h.3.attn.c_attn.lora_B.default.weight\n",
      "base_model.model.transformer.h.4.attn.c_attn.lora_A.default.weight\n",
      "base_model.model.transformer.h.4.attn.c_attn.lora_B.default.weight\n",
      "base_model.model.transformer.h.5.attn.c_attn.lora_A.default.weight\n",
      "base_model.model.transformer.h.5.attn.c_attn.lora_B.default.weight\n",
      "base_model.model.transformer.h.6.attn.c_attn.lora_A.default.weight\n",
      "base_model.model.transformer.h.6.attn.c_attn.lora_B.default.weight\n",
      "base_model.model.transformer.h.7.attn.c_attn.lora_A.default.weight\n",
      "base_model.model.transformer.h.7.attn.c_attn.lora_B.default.weight\n",
      "base_model.model.transformer.h.8.attn.c_attn.lora_A.default.weight\n",
      "base_model.model.transformer.h.8.attn.c_attn.lora_B.default.weight\n",
      "base_model.model.transformer.h.9.attn.c_attn.lora_A.default.weight\n",
      "base_model.model.transformer.h.9.attn.c_attn.lora_B.default.weight\n",
      "base_model.model.transformer.h.10.attn.c_attn.lora_A.default.weight\n",
      "base_model.model.transformer.h.10.attn.c_attn.lora_B.default.weight\n",
      "base_model.model.transformer.h.11.attn.c_attn.lora_A.default.weight\n",
      "base_model.model.transformer.h.11.attn.c_attn.lora_B.default.weight\n",
      "base_model.model.score.original_module.weight\n",
      "base_model.model.score.modules_to_save.default.weight\n"
     ]
    }
   ],
   "source": [
    "for name, param in lora_model_2.named_parameters():\n",
    "    if param.requires_grad:\n",
    "        print(name)"
   ]
  },
  {
   "cell_type": "code",
   "execution_count": null,
   "id": "fb948b91",
   "metadata": {},
   "outputs": [],
   "source": [
    "## Apply PEFT\n",
    "losses_hist_2 = training(lora_model_2, train_dataloader, class_weights=get_class_weight(train, device))\n",
    "peft_model2_id = 'gpt2-loar-2'\n",
    "lora_model_2.save_pretrained(peft_model2_id)"
   ]
  },
  {
   "cell_type": "markdown",
   "id": "0acc120f",
   "metadata": {},
   "source": [
    "## Plot Fine-Tuning History"
   ]
  },
  {
   "cell_type": "code",
   "execution_count": 35,
   "id": "0e1f38b8",
   "metadata": {},
   "outputs": [
    {
     "data": {
      "text/plain": [
       "Text(0, 0.5, 'Loss')"
      ]
     },
     "execution_count": 35,
     "metadata": {},
     "output_type": "execute_result"
    },
    {
     "data": {
      "image/png": "[encoded data removed]",
      "text/plain": [
       "<Figure size 700x500 with 1 Axes>"
      ]
     },
     "metadata": {},
     "output_type": "display_data"
    }
   ],
   "source": [
    "fig, ax = plt.subplots(1, 1, figsize=(7, 5))\n",
    "ax.plot(range(epochs), losses_hist_2[0])\n",
    "ax.set_xlabel(\"Epoch\")\n",
    "ax.set_ylabel(\"Loss\")"
   ]
  },
  {
   "cell_type": "code",
   "execution_count": 36,
   "id": "a846c90d",
   "metadata": {},
   "outputs": [
    {
     "data": {
      "application/vnd.jupyter.widget-view+json": {
       "model_id": "857139524f564d6595bd3eee07f0e7a7",
       "version_major": 2,
       "version_minor": 0
      },
      "text/plain": [
       "Model evaluation:   0%|          | 0/868 [00:00<?, ?it/s]"
      ]
     },
     "metadata": {},
     "output_type": "display_data"
    }
   ],
   "source": [
    "outputs_lora_2 = evaluation(lora_model_2, test_dataloader, device)"
   ]
  },
  {
   "cell_type": "code",
   "execution_count": 37,
   "id": "26743336",
   "metadata": {},
   "outputs": [
    {
     "name": "stdout",
     "output_type": "stream",
     "text": [
      "Accuracy = 0.7791010372646946, and F1-score = 0.5415919997139111\n"
     ]
    },
    {
     "data": {
      "image/png": "[encoded data removed]",
      "text/plain": [
       "<Figure size 640x480 with 2 Axes>"
      ]
     },
     "metadata": {},
     "output_type": "display_data"
    }
   ],
   "source": [
    "accuracy_peft, f1_peft, cm_peft = eval_model(outputs_lora_2['true_labels'], outputs_lora_2['predicted_labels'])\n",
    "print(f\"Accuracy = {accuracy_peft}, and F1-score = {f1_peft}\")\n",
    "# Display confusion matrix\n",
    "disp = ConfusionMatrixDisplay(confusion_matrix=cm_peft)\n",
    "disp.plot()\n",
    "plt.savefig(os.path.join(output_dir, \"peft_lora2.png\"))"
   ]
  },
  {
   "cell_type": "markdown",
   "id": "d0602d65",
   "metadata": {},
   "source": [
    "## <a name=\"section_9\"></a>**9. Load and Perform Inference with a PEFT Model**"
   ]
  },
  {
   "cell_type": "markdown",
   "id": "b562ba34",
   "metadata": {},
   "source": [
    "### Load model PEFT Model for inference"
   ]
  },
  {
   "cell_type": "code",
   "execution_count": 35,
   "id": "6aa7cdec",
   "metadata": {},
   "outputs": [
    {
     "name": "stdout",
     "output_type": "stream",
     "text": [
      "Loading PEFT pretrained model...\n"
     ]
    },
    {
     "data": {
      "application/vnd.jupyter.widget-view+json": {
       "model_id": "1c492b4770b14369a3a4f2a7a1c5da94",
       "version_major": 2,
       "version_minor": 0
      },
      "text/plain": [
       "model.safetensors:   0%|          | 0.00/548M [00:00<?, ?B/s]"
      ]
     },
     "metadata": {},
     "output_type": "display_data"
    },
    {
     "name": "stderr",
     "output_type": "stream",
     "text": [
      "Some weights of GPT2ForSequenceClassification were not initialized from the model checkpoint at gpt2 and are newly initialized: ['score.weight']\n",
      "You should probably TRAIN this model on a down-stream task to be able to use it for predictions and inference.\n"
     ]
    },
    {
     "name": "stdout",
     "output_type": "stream",
     "text": [
      "Finised loading PEFT pretrained model!\n"
     ]
    }
   ],
   "source": [
    "# Loading PEFT pretrained model\n",
    "peft_model_id = 'gpt2-loar-2'\n",
    "print(\"Loading PEFT pretrained model...\")\n",
    "# config = PeftConfig.from_pretrained(peft_model_id)\n",
    "inference_model = AutoPeftModelForSequenceClassification.from_pretrained(\n",
    "    pretrained_model_name_or_path=peft_model_id,\n",
    "    num_labels=num_labels\n",
    "    )\n",
    "# these are for GPT model: since we have custom padding token we need to initialise it for the model\n",
    "# resize model embedding to match new tokenizer\n",
    "inference_model.resize_token_embeddings(len(tokenizer))\n",
    "# fix model padding token id\n",
    "inference_model.config.pad_token_id = inference_model.config.eos_token_id\n",
    "inference_model.to(device)\n",
    "inference_model.eval()\n",
    "print(\"Finised loading PEFT pretrained model!\")"
   ]
  },
  {
   "cell_type": "markdown",
   "id": "e901df01",
   "metadata": {},
   "source": [
    "### Inference"
   ]
  },
  {
   "cell_type": "code",
   "execution_count": 36,
   "id": "93bbf02e",
   "metadata": {},
   "outputs": [
    {
     "data": {
      "application/vnd.jupyter.widget-view+json": {
       "model_id": "03f04924eb264c0388d52d72e97fceb7",
       "version_major": 2,
       "version_minor": 0
      },
      "text/plain": [
       "Model evaluation:   0%|          | 0/868 [00:00<?, ?it/s]"
      ]
     },
     "metadata": {},
     "output_type": "display_data"
    }
   ],
   "source": [
    "## Apply PEFT\n",
    "infer_result = evaluation(inference_model, test_dataloader, device)"
   ]
  },
  {
   "cell_type": "code",
   "execution_count": 97,
   "id": "bc8866e6",
   "metadata": {},
   "outputs": [
    {
     "data": {
      "application/vnd.jupyter.widget-view+json": {
       "model_id": "f3214bea3e4545418dacce40826ffced",
       "version_major": 2,
       "version_minor": 0
      },
      "text/plain": [
       "Saving the dataset (0/1 shards):   0%|          | 0/2603 [00:00<?, ? examples/s]"
      ]
     },
     "metadata": {},
     "output_type": "display_data"
    }
   ],
   "source": [
    "# Updated test dataset with predicted labels from the foundation model\n",
    "test = test.add_column('pred_label_lora2', outputs_lora_2['predicted_labels'].numpy().astype('int').tolist())\n",
    "test.save_to_disk(os.path.join(output_dir, 'test'))"
   ]
  },
  {
   "cell_type": "markdown",
   "id": "b7258320",
   "metadata": {},
   "source": [
    "## <a name=\"section_10\"></a>**10. Evaluate PEFT Model Pefrormance**\n",
    "Model performance is evaluated as follows:\n",
    "* Classification accuracy\n",
    "* Classification F1-score\n",
    "* Classification confusion matrix\n",
    "* Mis-classified sequences have been also explored"
   ]
  },
  {
   "cell_type": "code",
   "execution_count": 37,
   "id": "adaf1612",
   "metadata": {},
   "outputs": [
    {
     "name": "stdout",
     "output_type": "stream",
     "text": [
      "Accuracy = 0.7791010372646946, and F1-score = 0.5415919997139111\n"
     ]
    },
    {
     "data": {
      "image/png": "[encoded data removed]",
      "text/plain": [
       "<Figure size 640x480 with 2 Axes>"
      ]
     },
     "metadata": {},
     "output_type": "display_data"
    }
   ],
   "source": [
    "accuracy_peft, f1_peft, cm_peft = eval_model(infer_result['true_labels'], infer_result['predicted_labels'])\n",
    "print(f\"Accuracy = {accuracy_peft}, and F1-score = {f1_peft}\")\n",
    "# Display confusion matrix\n",
    "disp = ConfusionMatrixDisplay(confusion_matrix=cm_peft)\n",
    "disp.plot()\n",
    "plt.savefig(os.path.join(output_dir, \"peft_lora2_loaded.png\"))"
   ]
  },
  {
   "cell_type": "markdown",
   "id": "39ae4e1b",
   "metadata": {},
   "source": [
    "**PEFT imporved model accuracy from from 12% to 78% and F1 improved from 0.1 to 0.54.**"
   ]
  },
  {
   "cell_type": "markdown",
   "id": "23aacf39",
   "metadata": {},
   "source": [
    "### Explore mis-classfied entries"
   ]
  },
  {
   "cell_type": "code",
   "execution_count": 100,
   "id": "92e69067",
   "metadata": {},
   "outputs": [],
   "source": [
    "from datasets import load_dataset, load_from_disk\n",
    "import os"
   ]
  },
  {
   "cell_type": "code",
   "execution_count": 101,
   "id": "4dcdea87",
   "metadata": {},
   "outputs": [],
   "source": [
    "# Load locally saved dataset which contains model output\n",
    "ds = load_from_disk(os.path.join(output_dir, 'test'))\n",
    "# Select only specific columns\n",
    "ds = ds.select_columns(['output', 'input', 'labels', 'pred_label_lora2'])"
   ]
  },
  {
   "cell_type": "code",
   "execution_count": 106,
   "id": "7c40a828",
   "metadata": {},
   "outputs": [],
   "source": [
    "def display_mis_classification(input_dataset, true_label, pred_label, num_entries=5):\n",
    "    \"\"\"\n",
    "    Display examples of misclassified entries from a dataset.\n",
    "\n",
    "    This function searches through a dataset to find and display a specified number of entries \n",
    "    where the true label matches `true_label` and the predicted label matches `pred_label`. \n",
    "    The function prints the input sequences for these misclassified examples.\n",
    "\n",
    "    Args:\n",
    "        input_dataset (datasets.Dataset): The dataset containing input sequences and their corresponding labels.\n",
    "        true_label (int): The true label to search for in the dataset.\n",
    "        pred_label (int): The predicted label to search for in the dataset.\n",
    "        num_entries (int, optional): The number of misclassified examples to display. Defaults to 5.\n",
    "    \"\"\"\n",
    "    # Initialize counters: n is the number of entries to display, i is the current dataset index\n",
    "    n = num_entries\n",
    "    i = 0\n",
    "\n",
    "    # Loop through the dataset until either all rows are checked or the required number of examples is displayed\n",
    "    while i < input_dataset.num_rows and n > 0:\n",
    "        \n",
    "        # Check if the true label and predicted label match the specified criteria\n",
    "        if input_dataset[i]['labels'].item() == true_label and input_dataset[i]['pred_label_lora2'].item() == pred_label:\n",
    "            # Print the input sequence for the misclassified example\n",
    "            print(input_dataset[i]['input'] + \"\\n\\n\")\n",
    "            # Decrement the counter for the number of examples left to display\n",
    "            n -= 1\n",
    "        \n",
    "        # Move to the next row in the dataset\n",
    "        i += 1\n"
   ]
  },
  {
   "cell_type": "markdown",
   "id": "c827754a",
   "metadata": {},
   "source": [
    "### Show sample 'No Advice' which are classified as 'Weak Advice\""
   ]
  },
  {
   "cell_type": "code",
   "execution_count": 107,
   "id": "0fa3cf2b",
   "metadata": {},
   "outputs": [
    {
     "name": "stdout",
     "output_type": "stream",
     "text": [
      "Adherence to a healthy diet may play a role in reducing the risk of extrahepatic BTC.\n",
      "\n",
      "\n",
      "A larger and methodologically rigorous study is called for to further elucidate this finding and specifically determine the benefits of targeting EA with interventions such as ACT, in conjunction with evidence-based BFIs.\n",
      "\n",
      "\n",
      "We determined it would be feasible to conduct a full-scale trial of a psychosocial intervention targeting adults with CHD, although with modifications to address practical barriers to participation.\n",
      "\n",
      "\n",
      "This would provide impetus for the widespread adoption of 3D planning and IMRT.\n",
      "\n",
      "\n",
      "The findings should be replicated in other intervention studies to further investigate glucose lowering effects and the opportunity to use bitter gourd for dietary self-management, especially in places where access to professional medical care is not easily assured.\n",
      "\n",
      "\n",
      "This approach has the potential to improve cancer-screening rates significantly in settings that can provide telephone support to women known to be overdue.\n",
      "\n",
      "\n"
     ]
    }
   ],
   "source": [
    "display_mis_classification(ds, 0, 1, num_entries=5)"
   ]
  },
  {
   "cell_type": "markdown",
   "id": "0bc505e6",
   "metadata": {},
   "source": [
    "### Show sample 'Weak Advice' which are classified as 'No Advice\""
   ]
  },
  {
   "cell_type": "code",
   "execution_count": 108,
   "id": "25c309fb",
   "metadata": {},
   "outputs": [
    {
     "name": "stdout",
     "output_type": "stream",
     "text": [
      "Overall, these results suggest that lurasidone may be a useful treatment option for patients exhibiting agitation associated with acute psychotic symptoms of schizophrenia.\n",
      "\n",
      "\n",
      "The findings showed that Cumulus can be used to measure density on all types of digital images.\n",
      "\n",
      "\n",
      "The adapted FFQ is a reliable tool to estimate the dietary intake of energy, macronutrients, folate and vitamin B12 in women of reproductive age.\n",
      "\n",
      "\n",
      "Results support the use of these theory-based strategies to reduce alcohol drinking in excess of guideline limits among undergraduates.\n",
      "\n",
      "\n",
      "Although it is associated with a relatively high complication rate, patients with NTM lung disease whose disease is localized to one lung and who can tolerate resectional surgery might be considered for surgery, if there has been poor response to drug therapy or if the patients develop significant disease-related complications such as hemoptysis.\n",
      "\n",
      "\n",
      "Overall, the findings of this study suggest that important gait and plantar pressure measurements can be reliably acquired.\n",
      "\n",
      "\n"
     ]
    }
   ],
   "source": [
    "display_mis_classification(ds, 1, 0, num_entries=5)"
   ]
  },
  {
   "cell_type": "markdown",
   "id": "1094acd8",
   "metadata": {},
   "source": [
    "### Show sample 'Strong advice' which are classified as 'weak advice\""
   ]
  },
  {
   "cell_type": "code",
   "execution_count": 109,
   "id": "35a006ee",
   "metadata": {},
   "outputs": [
    {
     "name": "stdout",
     "output_type": "stream",
     "text": [
      "Based on our study we recommend the use of a short-arm radial gutter splint for initial immobilization of displaced distal radius fractures.\n",
      "\n",
      "\n",
      "Solifenacin 5 mg is a recommended starting dose in Korean patients with OAB.\n",
      "\n",
      "\n",
      "Use of the interlocked barbed polyglyconate suture technique prevents slippage, precluding the need for assistance, knot-tying and constant reassessment of anastomosis integrity.\n",
      "\n",
      "\n",
      "Therefore this position should be used cautiously in higher-risk patients.\n",
      "\n",
      "\n",
      "Reflecting the reality of clinical practice in resource limited settings, new diagnostics such as Xpert serve as important adjunctive tests but will not obviate the need for astute clinicians and comprehensive diagnostic algorithms.\n",
      "\n",
      "\n",
      "Furthermore, stone loads greater than normally acceptable can be successfully undertaken in these patients, and should be attempted due to problems associated  with other techniques.\n",
      "\n",
      "\n"
     ]
    }
   ],
   "source": [
    "display_mis_classification(ds, 2, 1, num_entries=5)"
   ]
  },
  {
   "cell_type": "markdown",
   "id": "dcaeb7ea",
   "metadata": {},
   "source": [
    "## <a name=\"section_11\"></a>**11. Summary**\n",
    "\n",
    "* Using PEFT, the sequence classification parformance as improved from F1-score from 0.01 to 0.54.\n",
    "* LoRA PEFT was used\n",
    "* Since there is huge class imbalace, class weighting was applied during PEFT."
   ]
  },
  {
   "cell_type": "code",
   "execution_count": null,
   "id": "93441ae5",
   "metadata": {},
   "outputs": [],
   "source": []
  }
 ],
 "metadata": {
  "kernelspec": {
   "display_name": "Python 3 (ipykernel)",
   "language": "python",
   "name": "python3"
  },
  "language_info": {
   "codemirror_mode": {
    "name": "ipython",
    "version": 3
   },
   "file_extension": ".py",
   "mimetype": "text/x-python",
   "name": "python",
   "nbconvert_exporter": "python",
   "pygments_lexer": "ipython3",
   "version": "3.10.11"
  }
 },
 "nbformat": 4,
 "nbformat_minor": 5
}
